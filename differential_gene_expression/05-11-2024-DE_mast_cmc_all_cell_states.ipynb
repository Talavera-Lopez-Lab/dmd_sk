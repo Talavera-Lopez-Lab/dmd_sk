{
 "cells": [
  {
   "cell_type": "markdown",
   "metadata": {},
   "source": [
    "# Notebook to run differential expression analysis on CMC using ´MAST´\n",
    "\n",
    "**Created by** : **Srivalli Kolla**\n",
    "\n",
    "**Devloped on** : 5 November,2024  \n",
    "\n",
    "**Last Modified** : 8 November,2024 \n",
    "\n",
    "**Institute of Systems Immunology, University of Wurzburg**"
   ]
  },
  {
   "cell_type": "markdown",
   "metadata": {},
   "source": [
    "Env : mast_env"
   ]
  },
  {
   "cell_type": "markdown",
   "metadata": {},
   "source": [
    "# Importing packages"
   ]
  },
  {
   "cell_type": "code",
   "execution_count": 12,
   "metadata": {},
   "outputs": [],
   "source": [
    "import os\n",
    "import numpy as np\n",
    "import anndata\n",
    "import datetime\n",
    "import scanpy as sc\n",
    "import pandas as pd\n",
    "import sc_toolbox\n",
    "import scipy.io\n",
    "import scanpy as sc\n",
    "import matplotlib.pyplot as plt\n",
    "import scipy.sparse as sparse\n",
    "\n",
    "\n",
    "from rpy2 import robjects\n",
    "from rpy2.robjects import pandas2ri\n",
    "from rpy2.robjects.packages import importr\n",
    "from rpy2.robjects import r\n",
    "\n",
    "pandas2ri.activate()\n",
    "\n",
    "MAST = importr('MAST')\n"
   ]
  },
  {
   "cell_type": "code",
   "execution_count": 13,
   "metadata": {},
   "outputs": [
    {
     "name": "stdout",
     "output_type": "stream",
     "text": [
      "-----\n",
      "anndata     0.8.0\n",
      "scanpy      1.9.3\n",
      "-----\n",
      "PIL                 8.2.0\n",
      "adjustText          1.2.0\n",
      "argcomplete         NA\n",
      "attr                23.2.0\n",
      "backcall            0.2.0\n",
      "backports           NA\n",
      "backports_abc       NA\n",
      "beta_ufunc          NA\n",
      "binom_ufunc         NA\n",
      "cffi                1.15.1\n",
      "cloudpickle         2.2.1\n",
      "colorama            0.4.6\n",
      "cycler              0.10.0\n",
      "cython_runtime      NA\n",
      "dask                2022.02.0\n",
      "dateutil            2.9.0\n",
      "debugpy             1.6.3\n",
      "decorator           5.1.1\n",
      "entrypoints         0.4\n",
      "fsspec              2023.1.0\n",
      "h5py                3.7.0\n",
      "ipykernel           6.16.2\n",
      "ipython_genutils    0.2.0\n",
      "jedi                0.19.1\n",
      "jinja2              3.1.4\n",
      "joblib              1.3.2\n",
      "kiwisolver          1.4.4\n",
      "llvmlite            0.39.1\n",
      "markupsafe          2.1.5\n",
      "matplotlib          3.5.3\n",
      "matplotlib_inline   0.1.7\n",
      "more_itertools      NA\n",
      "mpl_toolkits        NA\n",
      "natsort             8.4.0\n",
      "nbinom_ufunc        NA\n",
      "numba               0.56.3\n",
      "numpy               1.21.6\n",
      "packaging           23.2\n",
      "pandas              1.3.5\n",
      "parso               0.8.4\n",
      "pexpect             4.9.0\n",
      "pickleshare         0.7.5\n",
      "pkg_resources       NA\n",
      "prompt_toolkit      3.0.47\n",
      "psutil              5.9.3\n",
      "ptyprocess          0.7.0\n",
      "pydev_ipython       NA\n",
      "pydevconsole        NA\n",
      "pydevd              2.8.0\n",
      "pydevd_file_utils   NA\n",
      "pydevd_plugins      NA\n",
      "pydevd_tracing      NA\n",
      "pygments            2.17.2\n",
      "pyparsing           3.1.2\n",
      "pypi_latest         0.1.2\n",
      "pytz                2024.1\n",
      "questionary         1.10.0\n",
      "rich                NA\n",
      "rpy2                3.5.16\n",
      "sc_toolbox          0.12.1\n",
      "scipy               1.7.3\n",
      "seaborn             0.12.2\n",
      "session_info        1.0.0\n",
      "six                 1.16.0\n",
      "sklearn             1.0.2\n",
      "sparse              0.13.0\n",
      "statsmodels         0.13.2\n",
      "storemagic          NA\n",
      "threadpoolctl       3.1.0\n",
      "tlz                 0.12.1\n",
      "toolz               0.12.1\n",
      "tornado             6.2\n",
      "traitlets           5.9.0\n",
      "typing_extensions   NA\n",
      "tzlocal             NA\n",
      "vscode              NA\n",
      "wcwidth             0.2.10\n",
      "yaml                6.0\n",
      "zipp                NA\n",
      "zmq                 24.0.1\n",
      "-----\n",
      "IPython             7.33.0\n",
      "jupyter_client      7.4.9\n",
      "jupyter_core        4.11.1\n",
      "notebook            6.5.7\n",
      "-----\n",
      "Python 3.7.12 | packaged by conda-forge | (default, Oct 26 2021, 06:08:21) [GCC 9.4.0]\n",
      "Linux-6.11.4-101.fc39.x86_64-x86_64-with-fedora-39-Thirty_Nine\n",
      "-----\n",
      "Session information updated at 2024-11-08 11:05\n"
     ]
    },
    {
     "data": {
      "text/plain": [
       "'08_11_24,11:05'"
      ]
     },
     "execution_count": 13,
     "metadata": {},
     "output_type": "execute_result"
    }
   ],
   "source": [
    "sc.settings.verbosity = 3\n",
    "sc.logging.print_versions()\n",
    "sc.settings.set_figure_params(dpi = 300, color_map = 'RdPu', dpi_save = 300, vector_friendly = True, format = 'svg')\n",
    "\n",
    "timestamp = datetime.datetime.now().strftime(\"%d_%m_%y,%H:%M\")\n",
    "timestamp"
   ]
  },
  {
   "cell_type": "markdown",
   "metadata": {},
   "source": [
    "# MAST"
   ]
  },
  {
   "cell_type": "markdown",
   "metadata": {},
   "source": [
    "## Data Preparation"
   ]
  },
  {
   "cell_type": "markdown",
   "metadata": {},
   "source": [
    "##### Steps followed\n",
    "\n",
    "1. Data loading and subsetting\n",
    "2. Normalization and log transformation\n",
    "3. Generating individual files for genes, barcodes, metadata and a matrix having log counts"
   ]
  },
  {
   "cell_type": "code",
   "execution_count": 14,
   "metadata": {},
   "outputs": [
    {
     "data": {
      "text/plain": [
       "AnnData object with n_obs × n_vars = 84692 × 29378\n",
       "    obs: 'sangerID', 'combinedID', 'donor', 'donor_type', 'region', 'region_finest', 'age', 'gender', 'facility', 'cell_or_nuclei', 'modality', 'kit_10x', 'flushed', 'n_genes', 'n_genes_by_counts', 'total_counts', 'total_counts_mt', 'pct_counts_mt', 'total_counts_ribo', 'pct_counts_ribo', 'scrublet_score', 'scrublet_leiden', 'cluster_scrublet_score', 'doublet_pval', 'doublet_bh_pval', 'batch_key', 'leiden_scVI', 'cell_type', 'cell_state_HCAv1', 'cell_state_scNym', 'cell_state_scNym_confidence', 'cell_state', 'latent_RT_efficiency', 'latent_cell_probability', 'latent_scale', 'n_counts', '_scvi_batch', '_scvi_labels', 'clus20', 'doublet_cls', 'original_or_new', 'batch', 'scANVI_predictions', 'leiden_scArches', 'sample', 'seed_labels', 'genotype', 'doublet_scores', 'predicted_doublets', 'percent_chrY', 'XIST-counts', 'XIST-percentage', 'gender_check_cov', 'S_score', 'G2M_score', 'phase', 'C_scANVI'\n",
       "    obsm: 'X_pca', 'X_umap'\n",
       "    layers: 'normalized', 'raw_counts'"
      ]
     },
     "execution_count": 14,
     "metadata": {},
     "output_type": "execute_result"
    }
   ],
   "source": [
    "files = ['../data/dmd_annotated_human_wt_cmc_1k_hvg_25_10_24,11:40.h5ad','../data/dmd_annotated_wt_others_cmc_5k_hvg_25_10_24,11:49.h5ad']\n",
    "\n",
    "adatas = [anndata.read_h5ad(fp) for fp in files]\n",
    "\n",
    "adata = anndata.concat(adatas, join='inner')\n",
    "adata"
   ]
  },
  {
   "cell_type": "code",
   "execution_count": 15,
   "metadata": {},
   "outputs": [
    {
     "data": {
      "text/plain": [
       "View of AnnData object with n_obs × n_vars = 84690 × 29378\n",
       "    obs: 'sangerID', 'combinedID', 'donor', 'donor_type', 'region', 'region_finest', 'age', 'gender', 'facility', 'cell_or_nuclei', 'modality', 'kit_10x', 'flushed', 'n_genes', 'n_genes_by_counts', 'total_counts', 'total_counts_mt', 'pct_counts_mt', 'total_counts_ribo', 'pct_counts_ribo', 'scrublet_score', 'scrublet_leiden', 'cluster_scrublet_score', 'doublet_pval', 'doublet_bh_pval', 'batch_key', 'leiden_scVI', 'cell_type', 'cell_state_HCAv1', 'cell_state_scNym', 'cell_state_scNym_confidence', 'cell_state', 'latent_RT_efficiency', 'latent_cell_probability', 'latent_scale', 'n_counts', '_scvi_batch', '_scvi_labels', 'clus20', 'doublet_cls', 'original_or_new', 'batch', 'scANVI_predictions', 'leiden_scArches', 'sample', 'seed_labels', 'genotype', 'doublet_scores', 'predicted_doublets', 'percent_chrY', 'XIST-counts', 'XIST-percentage', 'gender_check_cov', 'S_score', 'G2M_score', 'phase', 'C_scANVI'\n",
       "    obsm: 'X_pca', 'X_umap'\n",
       "    layers: 'normalized', 'raw_counts'"
      ]
     },
     "execution_count": 15,
     "metadata": {},
     "output_type": "execute_result"
    }
   ],
   "source": [
    "desired_cell_state = ['vCM1', 'vCM2', 'vCM3', 'vCM4']\n",
    "adata = adata[adata.obs['cell_state'].isin(desired_cell_state)]\n",
    "adata"
   ]
  },
  {
   "cell_type": "code",
   "execution_count": 16,
   "metadata": {},
   "outputs": [
    {
     "data": {
      "text/plain": [
       "False"
      ]
     },
     "execution_count": 16,
     "metadata": {},
     "output_type": "execute_result"
    }
   ],
   "source": [
    "def X_is_raw(adata):\n",
    "    return np.array_equal(adata.X.sum(axis=0).astype(int), adata.X.sum(axis=0))\n",
    "\n",
    "X_is_raw(adata)"
   ]
  },
  {
   "cell_type": "code",
   "execution_count": 17,
   "metadata": {},
   "outputs": [],
   "source": [
    "sparse_matrix = sparse.csr_matrix(adata.X.T)\n",
    "scipy.io.mmwrite(f'./DE_results/de_matrix_all_geno_{timestamp}.mtx', sparse_matrix)\n",
    "genes = pd.DataFrame(adata.var.index, columns=[\"gene\"])\n",
    "genes.to_csv(f'./DE_results/de_genes_all_geno_{timestamp}.tsv', sep='\\t', index=False, header=False)\n",
    "barcodes = pd.DataFrame(adata.obs.index, columns=[\"barcode\"])\n",
    "barcodes.to_csv(f'./DE_results/de_barcodes_all_geno_{timestamp}.tsv', sep='\\t', index=False, header=False)\n",
    "metadata = adata.obs\n",
    "metadata.to_csv(f'./DE_results/de_metadata_all_geno_{timestamp}.tsv', sep='\\t', index=True, header=True)"
   ]
  },
  {
   "cell_type": "code",
   "execution_count": 18,
   "metadata": {},
   "outputs": [
    {
     "data": {
      "text/plain": [
       "vCM1    79069\n",
       "vCM4     3186\n",
       "vCM3     2290\n",
       "vCM2      145\n",
       "Name: cell_state, dtype: int64"
      ]
     },
     "execution_count": 18,
     "metadata": {},
     "output_type": "execute_result"
    }
   ],
   "source": [
    "adata.obs['cell_state'].value_counts()"
   ]
  },
  {
   "cell_type": "code",
   "execution_count": 19,
   "metadata": {},
   "outputs": [
    {
     "data": {
      "text/plain": [
       "View of AnnData object with n_obs × n_vars = 84690 × 29378\n",
       "    obs: 'sangerID', 'combinedID', 'donor', 'donor_type', 'region', 'region_finest', 'age', 'gender', 'facility', 'cell_or_nuclei', 'modality', 'kit_10x', 'flushed', 'n_genes', 'n_genes_by_counts', 'total_counts', 'total_counts_mt', 'pct_counts_mt', 'total_counts_ribo', 'pct_counts_ribo', 'scrublet_score', 'scrublet_leiden', 'cluster_scrublet_score', 'doublet_pval', 'doublet_bh_pval', 'batch_key', 'leiden_scVI', 'cell_type', 'cell_state_HCAv1', 'cell_state_scNym', 'cell_state_scNym_confidence', 'cell_state', 'latent_RT_efficiency', 'latent_cell_probability', 'latent_scale', 'n_counts', '_scvi_batch', '_scvi_labels', 'clus20', 'doublet_cls', 'original_or_new', 'batch', 'scANVI_predictions', 'leiden_scArches', 'sample', 'seed_labels', 'genotype', 'doublet_scores', 'predicted_doublets', 'percent_chrY', 'XIST-counts', 'XIST-percentage', 'gender_check_cov', 'S_score', 'G2M_score', 'phase', 'C_scANVI'\n",
       "    obsm: 'X_pca', 'X_umap'\n",
       "    layers: 'normalized', 'raw_counts'"
      ]
     },
     "execution_count": 19,
     "metadata": {},
     "output_type": "execute_result"
    }
   ],
   "source": [
    "adata"
   ]
  },
  {
   "cell_type": "markdown",
   "metadata": {},
   "source": [
    "## Defining Functions"
   ]
  },
  {
   "cell_type": "markdown",
   "metadata": {},
   "source": [
    "##### Steps followed in defining functions\n",
    "\n",
    "*Create_single_cell_assay*\n",
    "\n",
    "For creating a single cell assay object which can be used by MAST for differential gene expression\n",
    "\n",
    "1. Read the matrix, genes, and barcodes files\n",
    "2. Ensure the matrix has correct row and column names by checking with colnames and riownames of matrix\n",
    "3. Convert sparse matrix to dense matrix\n",
    "4. Ensure metadata matches the expression matrix\n",
    "5. Create the SingleCellAssay object\n",
    "6. Compute number of expressed genes per cell and store as a column in sca object\n",
    "7. Store columns of interest as factors\n",
    "8. Create the SingleCellAssay object"
   ]
  },
  {
   "cell_type": "code",
   "execution_count": 20,
   "metadata": {},
   "outputs": [
    {
     "name": "stdout",
     "output_type": "stream",
     "text": [
      "Creating SingleCellAssay object...\n"
     ]
    },
    {
     "name": "stderr",
     "output_type": "stream",
     "text": [
      "WARNING:rpy2.rinterface_lib.callbacks:R[write to console]: `fData` has no primerid.  I'll make something up.\n",
      "\n",
      "WARNING:rpy2.rinterface_lib.callbacks:R[write to console]: `cData` has no wellKey.  I'll make something up.\n",
      "\n",
      "WARNING:rpy2.rinterface_lib.callbacks:R[write to console]: In addition: \n",
      "WARNING:rpy2.rinterface_lib.callbacks:R[write to console]: Warning messages:\n",
      "\n",
      "WARNING:rpy2.rinterface_lib.callbacks:R[write to console]: 1: closing unused connection 5 (./DE_results/de_matrix_all_geno_08_11_24;10:58.mtx) \n",
      "\n",
      "WARNING:rpy2.rinterface_lib.callbacks:R[write to console]: 2: closing unused connection 4 (./DE_results/de_matrix_all_geno_08_11_24;10:58.mtx) \n",
      "\n",
      "WARNING:rpy2.rinterface_lib.callbacks:R[write to console]: 3: closing unused connection 3 (./DE_results/de_matrix_all_geno_08_11_24;10:59.mtx) \n",
      "\n"
     ]
    },
    {
     "name": "stdout",
     "output_type": "stream",
     "text": [
      "SingleCellAssay object created.\n"
     ]
    }
   ],
   "source": [
    "def create_single_cell_assay():\n",
    "    print(\"Creating SingleCellAssay object...\")\n",
    "    robjects.r('''\n",
    "    library(MAST)\n",
    "    library(Matrix)\n",
    "    \n",
    "        exprsMatrix <- readMM(\"./DE_results/de_matrix_all_geno_08_11_24,10:58.mtx\")\n",
    "        genes <- read.table(\"./DE_results/de_genes_all_geno_08_11_24,10:58.tsv\", header=FALSE, stringsAsFactors=FALSE)\n",
    "        barcodes <- read.table(\"./DE_results/de_barcodes_all_geno_08_11_24,10:58.tsv\", header=FALSE, stringsAsFactors=FALSE)\n",
    "        metadata <- read.table(\"./DE_results/de_metadata_all_geno_08_11_24,10:58.tsv\", header=TRUE, sep=\"\\t\", row.names=1, stringsAsFactors=FALSE) \n",
    "\n",
    "\n",
    "    colnames(exprsMatrix) <- barcodes$V1\n",
    "    rownames(exprsMatrix) <- genes$V1\n",
    "\n",
    "    exprsMatrix <- as.matrix(exprsMatrix)\n",
    "\n",
    "    common_cells <- intersect(colnames(exprsMatrix), rownames(metadata))\n",
    "    exprsMatrix <- exprsMatrix[, common_cells]\n",
    "    metadata <- metadata[common_cells, ]\n",
    "\n",
    "    sca <- FromMatrix(exprsArray=exprsMatrix,\n",
    "                      cData=metadata,\n",
    "                      fData=data.frame(gene_id=rownames(exprsMatrix)),\n",
    "                      class=\"SingleCellAssay\",\n",
    "                      check_sanity=FALSE)\n",
    "\n",
    "    cdr2 <- colSums(assay(sca) > 0)\n",
    "    colData(sca)$n_genes_per_cell <- scale(cdr2)\n",
    "\n",
    "    colData(sca)$genotype <- factor(colData(sca)$genotype)\n",
    "    colData(sca)$cell_state <- factor(colData(sca)$cell_state)\n",
    "\n",
    "    sca\n",
    "    ''')\n",
    "    print(\"SingleCellAssay object created.\")\n",
    "    return robjects.r['sca']\n",
    "\n",
    "\n",
    "sca = create_single_cell_assay()\n"
   ]
  },
  {
   "cell_type": "markdown",
   "metadata": {},
   "source": [
    "##### Steps followed in defining functions\n",
    "\n",
    "*Find_de_MAST*\n",
    "\n",
    "For performing differential gene expression analysis\n",
    "\n",
    "1. Define and fit the model by considering n_genes_per_cell and genotype and \n",
    "2. Perform likelihood-ratio test for the condition of interest\n",
    "3. Extract datatable from summary with log-fold changes and p-values\n",
    "4. Crea te a list to store results generated in next steps\n",
    "5. For each gene in a cellstate , extract log fold change using natural basic logarithm and p-value and FDR and store temporarily in alist with defined column and cellstate\n",
    "6. Convert the coefficients to log2 base\n",
    "7. False discovery rate calculation (Multiple testing correction)\n",
    "8. Call the R function 'find_de' for dsifferential expression analysis and run on sca object"
   ]
  },
  {
   "cell_type": "code",
   "execution_count": 21,
   "metadata": {},
   "outputs": [
    {
     "name": "stderr",
     "output_type": "stream",
     "text": [
      "WARNING:rpy2.rinterface_lib.callbacks:R[write to console]: data.table 1.15.4 using 32 threads (see ?getDTthreads).  \n",
      "WARNING:rpy2.rinterface_lib.callbacks:R[write to console]: Latest news: r-datatable.com\n",
      "\n",
      "WARNING:rpy2.rinterface_lib.callbacks:R[write to console]: \n",
      "Attaching package: ‘data.table’\n",
      "\n",
      "\n",
      "WARNING:rpy2.rinterface_lib.callbacks:R[write to console]: The following object is masked from ‘package:SummarizedExperiment’:\n",
      "\n",
      "    shift\n",
      "\n",
      "\n",
      "WARNING:rpy2.rinterface_lib.callbacks:R[write to console]: The following object is masked from ‘package:GenomicRanges’:\n",
      "\n",
      "    shift\n",
      "\n",
      "\n",
      "WARNING:rpy2.rinterface_lib.callbacks:R[write to console]: The following object is masked from ‘package:IRanges’:\n",
      "\n",
      "    shift\n",
      "\n",
      "\n",
      "WARNING:rpy2.rinterface_lib.callbacks:R[write to console]: The following objects are masked from ‘package:S4Vectors’:\n",
      "\n",
      "    first, second\n",
      "\n",
      "\n"
     ]
    },
    {
     "name": "stdout",
     "output_type": "stream",
     "text": [
      "Finding differentially expressed genes based on genotype and cell state...\n",
      "Differentially expressed genes based on genotype and cell state found.\n"
     ]
    },
    {
     "name": "stderr",
     "output_type": "stream",
     "text": [
      "WARNING:rpy2.rinterface_lib.callbacks:R[write to console]: \n",
      "Done!\n",
      "\n",
      "WARNING:rpy2.rinterface_lib.callbacks:R[write to console]: Combining coefficients and standard errors\n",
      "\n",
      "WARNING:rpy2.rinterface_lib.callbacks:R[write to console]: Calculating log-fold changes\n",
      "\n",
      "WARNING:rpy2.rinterface_lib.callbacks:R[write to console]: Calculating likelihood ratio tests\n",
      "\n",
      "WARNING:rpy2.rinterface_lib.callbacks:R[write to console]: Refitting on reduced model...\n",
      "\n",
      "WARNING:rpy2.rinterface_lib.callbacks:R[write to console]: \n",
      "Done!\n",
      "\n",
      "WARNING:rpy2.rinterface_lib.callbacks:R[write to console]: Refitting on reduced model...\n",
      "\n",
      "WARNING:rpy2.rinterface_lib.callbacks:R[write to console]: \n",
      "Done!\n",
      "\n",
      "WARNING:rpy2.rinterface_lib.callbacks:R[write to console]: Refitting on reduced model...\n",
      "\n",
      "WARNING:rpy2.rinterface_lib.callbacks:R[write to console]: \n",
      "Done!\n",
      "\n",
      "WARNING:rpy2.rinterface_lib.callbacks:R[write to console]: Refitting on reduced model...\n",
      "\n",
      "WARNING:rpy2.rinterface_lib.callbacks:R[write to console]: \n",
      "Done!\n",
      "\n",
      "WARNING:rpy2.rinterface_lib.callbacks:R[write to console]: Refitting on reduced model...\n",
      "\n",
      "From cffi callback <function _processevents at 0x7fd480faf8c0>:\n",
      "Traceback (most recent call last):\n",
      "  File \"/home/skolla/miniforge3/envs/mast_env/lib/python3.7/site-packages/rpy2/rinterface_lib/callbacks.py\", line 275, in _processevents\n",
      "    @ffi_proxy.callback(ffi_proxy._processevents_def,\n",
      "KeyboardInterrupt\n"
     ]
    }
   ],
   "source": [
    "def find_de_MAST(sca):\n",
    "    print(\"Finding differentially expressed genes based on genotype and cell state...\")\n",
    "    robjects.r('''\n",
    "    library(MAST)\n",
    "    library(data.table)\n",
    "    \n",
    "    find_de <- function(sca) {\n",
    "        # Perform DE analysis with both genotype and cell_state as factors\n",
    "        zlmCond <- zlm(~ n_genes_per_cell + genotype + cell_state, sca)\n",
    "        summaryCond <- summary(zlmCond, doLRT = TRUE)\n",
    "        summaryDt <- summaryCond$datatable\n",
    "        \n",
    "        results <- list()\n",
    "        \n",
    "        # Extract unique combinations of genotype and cell_state contrasts\n",
    "        contrasts <- unique(summaryDt[component == 'H', .(contrast)])\n",
    "        \n",
    "        for (contrast in contrasts$contrast) {\n",
    "            if (contrast != 'n_genes_per_cell') {\n",
    "                # Filter results for the current contrast\n",
    "                contrast_lfc <- summaryDt[contrast == contrast & component == 'logFC', .(primerid, coef)]\n",
    "                contrast_p <- summaryDt[contrast == contrast & component == 'H', .(primerid, `Pr(>Chisq)`)]\n",
    "                \n",
    "                # Merge log-fold change and p-value results\n",
    "                tmp <- merge(contrast_lfc, contrast_p, by='primerid')\n",
    "                tmp$log_fold_change <- tmp$coef / log(2)  # Convert to log2 scale\n",
    "                tmp$FDR <- p.adjust(tmp$`Pr(>Chisq)`, 'fdr')\n",
    "                \n",
    "                # Parse genotype and cell_state from the contrast name\n",
    "                genotype <- sub(\".*genotype\", \"genotype\", contrast)\n",
    "                cell_state <- sub(\".*cell_state\", \"cell_state\", contrast)\n",
    "                \n",
    "                tmp$genotype <- genotype\n",
    "                tmp$cell_state <- cell_state\n",
    "                \n",
    "                # Remove extra columns if any before renaming\n",
    "                tmp <- tmp[, .(primerid, log_fold_change, `Pr(>Chisq)`, FDR, genotype, cell_state)]\n",
    "                \n",
    "                colnames(tmp) <- c('gene_id', 'log_fold_change', 'p_value', 'FDR', 'genotype', 'cell_state')\n",
    "                \n",
    "                # Add result to the list\n",
    "                results[[paste(genotype, cell_state, sep=\"_\")]] <- tmp\n",
    "            }\n",
    "        }\n",
    "\n",
    "        # Remove any NA values\n",
    "        results <- lapply(results, na.omit)\n",
    "        return(results)\n",
    "    }\n",
    "    ''')\n",
    "\n",
    "    print(\"Differentially expressed genes based on genotype and cell state found.\")\n",
    "\n",
    "    result = robjects.r['find_de'](sca)\n",
    "    return result\n",
    "\n",
    "# Run the DE analysis\n",
    "de_results = find_de_MAST(sca)"
   ]
  },
  {
   "cell_type": "markdown",
   "metadata": {},
   "source": [
    "## Writing files"
   ]
  },
  {
   "cell_type": "markdown",
   "metadata": {},
   "source": [
    "##### Steps followed \n",
    "\n",
    "1. Convert the results to a pandas DataFrame\n",
    "2. Savinng separate files for each cell state and a siungle file withh all results\n",
    "3. Adding MAST results to anndata and writing a new anndata file"
   ]
  },
  {
   "cell_type": "code",
   "execution_count": null,
   "metadata": {},
   "outputs": [],
   "source": [
    "DE_results_df = {cell_state: pandas2ri.rpy2py_dataframe(df) for cell_state, df in de_results.items()}\n",
    "\n",
    "all_gene_ids = set()\n",
    "for df in DE_results_df.values():\n",
    "    all_gene_ids.update(df['gene_id'])\n",
    "\n",
    "for cell_state, df in DE_results_df.items():\n",
    "    missing_genes = all_gene_ids - set(df['gene_id'])\n",
    "    for gene in missing_genes:\n",
    "\n",
    "        df = df.append({'gene_id': gene, 'log_fold_change': np.nan, 'p_value': np.nan, 'FDR': np.nan}, ignore_index=True)\n",
    "\n",
    "    DE_results_df[cell_state] = df.sort_values('gene_id').reset_index(drop=True)\n",
    "\n",
    "\n",
    "timestamp = pd.Timestamp.now().strftime(\"%d_%m_%Y,%H:%M\")\n",
    "for cell_state, df in DE_results_df.items():\n",
    "    file_name = f\"./DE_results/DE_all_geno_{cell_state}_{timestamp}.txt\"\n",
    "    df.to_csv(file_name, sep='\\t', index=False)\n",
    "    print(f\"Saved DE results for {cell_state} to {file_name}\")\n",
    "\n",
    "all_results = pd.concat(DE_results_df.values(), keys=DE_results_df.keys())\n",
    "\n",
    "\n",
    "try:\n",
    "    sc_toolbox.tools.de_res_to_anndata(\n",
    "        adata,\n",
    "        all_results,\n",
    "        groupby=\"cell_state\",\n",
    "        gene_id_col='gene_id',\n",
    "        score_col='log_fold_change',\n",
    "        pval_col='p_value',\n",
    "        pval_adj_col=\"FDR\",\n",
    "        lfc_col='log_fold_change',\n",
    "        key_added='MAST_results'\n",
    "    )\n",
    "except ValueError as e:\n",
    "    print(f\"Error updating AnnData: {e}\")\n",
    "\n",
    "\n",
    "for col in adata.obs.columns:\n",
    "    if adata.obs[col].dtype not in ['object', 'string_']:  \n",
    "        adata.obs[col] = adata.obs[col].astype(str)\n",
    "\n",
    "\n",
    "adata.write_h5ad(f'./DE_results/dmd_de_cmc_all_geno_{timestamp}.h5ad')\n",
    "\n",
    "print(\"Updated AnnData object:\")\n",
    "print(adata)"
   ]
  },
  {
   "cell_type": "markdown",
   "metadata": {},
   "source": [
    "##### Steps followed \n",
    "\n",
    "1. Set thresholds\n",
    "2. Define a function\n",
    "3. Extracting MAST results into a dataframe and ensuring it has required columns\n",
    "4. Set index to gene names\n",
    "5. Filter based on thresholds and extract genes\n",
    "6. Create a output directory if doesnt exist\n",
    "7. Plot heatmap for each cellstate by subsetting to desired cellstate"
   ]
  },
  {
   "cell_type": "code",
   "execution_count": 13,
   "metadata": {},
   "outputs": [],
   "source": [
    "adata.uns['MAST_results'] = DE_results_df"
   ]
  },
  {
   "cell_type": "markdown",
   "metadata": {},
   "source": [
    "## Data visualization"
   ]
  },
  {
   "cell_type": "code",
   "execution_count": null,
   "metadata": {},
   "outputs": [],
   "source": [
    "FDR = 0.01\n",
    "LOG_FOLD_CHANGE = 1.5\n",
    "TOP_N_GENES = 50\n",
    "\n",
    "def plot_heatmap(adata, group_key, groupby=\"cell_state\", output_dir=\"./figures/plots\"):\n",
    "    if group_key not in adata.uns:\n",
    "        raise ValueError(f\"Group key '{group_key}' not found in adata.uns\")\n",
    "    \n",
    "    DE_results_dict = adata.uns[group_key]\n",
    "\n",
    "    if isinstance(DE_results_dict, dict) and all(isinstance(v, pd.DataFrame) for v in DE_results_dict.values()):\n",
    "        res = pd.concat(DE_results_dict.values(), keys=DE_results_dict.keys(), names=['cell_state', 'index'])\n",
    "    else:\n",
    "        raise ValueError(f\"Unexpected format for differential expression results in adata.uns['{group_key}']\")\n",
    "    \n",
    "    required_columns = ['gene_id', 'log_fold_change', 'p_value', 'FDR']\n",
    "    for col in required_columns:\n",
    "        if col not in res.columns:\n",
    "            raise KeyError(f\"Expected column '{col}' not found in differential expression results.\")\n",
    "    \n",
    "    if not os.path.exists(output_dir):\n",
    "        os.makedirs(output_dir)\n",
    "    \n",
    "    unique_groups = adata.obs[groupby].unique()\n",
    "    for group in unique_groups:\n",
    "        group_key_full = f'cell_state{group}'\n",
    "        \n",
    "        if group_key_full not in DE_results_dict:\n",
    "            print(f\"No results found for group: {group}\")\n",
    "            continue\n",
    "\n",
    "        print(f\"Plotting heatmap for group: {group}\")\n",
    "\n",
    "        group_res = DE_results_dict[group_key_full]\n",
    "        filtered_res = group_res[\n",
    "            (group_res[\"FDR\"] < FDR) & (abs(group_res[\"log_fold_change\"]) > LOG_FOLD_CHANGE)\n",
    "        ].sort_values(by=\"log_fold_change\", ascending=False)\n",
    "\n",
    "        top_genes = filtered_res.head(TOP_N_GENES)\n",
    "        markers = list(top_genes['gene_id'].unique())\n",
    "\n",
    "\n",
    "        if len(markers) == 0:\n",
    "            print(f\"No significant genes found for group: {group}\")\n",
    "            continue\n",
    "    \n",
    "        adata_group = adata[adata.obs[groupby] == group].copy()\n",
    "        adata_group = adata_group[:, adata_group.var_names.isin(markers)]\n",
    "   \n",
    "        if adata_group.shape[1] == 0:\n",
    "            print(f\"No data available for selected markers in group: {group}\")\n",
    "            continue\n",
    "\n",
    "\n",
    "        filename = f\"DE_genes_{group}_all_geno_heatmap_{timestamp}.png\"\n",
    "        filepath = os.path.join(output_dir, filename)\n",
    "        \n",
    "        sc.pl.heatmap(\n",
    "            adata_group,\n",
    "            var_names=markers,\n",
    "            groupby=groupby,\n",
    "            swap_axes=True,\n",
    "            show=False\n",
    "        )\n",
    "        \n",
    "        plt.title(f\"Heatmap - {group}_all_geno\")\n",
    "        plt.ylabel(\"Gene Names\")\n",
    "        plt.savefig(filepath)\n",
    "        print(f\"Heatmap saved to {filepath}\")\n",
    "        plt.close()\n",
    "\n",
    "\n",
    "plot_heatmap(adata, group_key=\"MAST_results\")"
   ]
  },
  {
   "cell_type": "code",
   "execution_count": null,
   "metadata": {},
   "outputs": [],
   "source": [
    "FDR = 0.01\n",
    "LOG_FOLD_CHANGE = 1.0\n",
    "TOP_N_GENES = 50\n",
    "\n",
    "def plot_dotplot(adata, group_key, genotype_key, groupby=\"cell_state\", output_dir=\"plots\"):\n",
    "    if group_key not in adata.uns:\n",
    "        raise ValueError(f\"Group key '{group_key}' not found in adata.uns\")\n",
    "    \n",
    "    if genotype_key not in adata.obs:\n",
    "        raise ValueError(f\"Genotype key '{genotype_key}' not found in adata.obs\")\n",
    "    \n",
    "    DE_results_dict = adata.uns[group_key]\n",
    "    \n",
    "\n",
    "    if isinstance(DE_results_dict, dict) and all(isinstance(v, pd.DataFrame) for v in DE_results_dict.values()):\n",
    "        res = pd.concat(DE_results_dict.values(), keys=DE_results_dict.keys(), names=['cell_state', 'index'])\n",
    "    else:\n",
    "        raise ValueError(f\"Unexpected format for differential expression results in adata.uns['{group_key}']\")\n",
    "    \n",
    "    required_columns = ['gene_id', 'log_fold_change', 'p_value', 'FDR']\n",
    "    for col in required_columns:\n",
    "        if col not in res.columns:\n",
    "            raise KeyError(f\"Expected column '{col}' not found in differential expression results.\")\n",
    "    \n",
    "\n",
    "    unique_groups = adata.obs[groupby].unique()\n",
    "    for group in unique_groups:\n",
    "        group_key_full = f'cell_state{group}'\n",
    "        \n",
    "        if group_key_full not in DE_results_dict:\n",
    "            print(f\"No results found for group: {group}\")\n",
    "            continue\n",
    "\n",
    "        print(f\"Plotting dot plot for group: {group}\")\n",
    "\n",
    "        group_res = DE_results_dict[group_key_full]\n",
    "        filtered_res = group_res[\n",
    "            (group_res[\"FDR\"] < FDR) & (abs(group_res[\"log_fold_change\"]) > LOG_FOLD_CHANGE)\n",
    "        ].sort_values(by=[\"log_fold_change\"], ascending=False)\n",
    "        \n",
    "  \n",
    "        top_genes = filtered_res.head(TOP_N_GENES)\n",
    "        markers = list(top_genes['gene_id'].unique())\n",
    "        if len(markers) == 0:\n",
    "            print(f\"No significant genes found for group: {group}\")\n",
    "            continue\n",
    "\n",
    "        adata_group = adata[adata.obs[groupby] == group].copy()\n",
    "        \n",
    "        genotypes = adata_group.obs[genotype_key].unique()\n",
    "        genotype = genotypes[0] if len(genotypes) > 0 else \"Unknown\"\n",
    "        title = f\"Dot Plot for {group} - Genotype: {genotype}\"\n",
    "        \n",
    "\n",
    "        os.makedirs(output_dir, exist_ok=True)\n",
    "        filename = f\"all_geno_{group}_dotplot_{timestamp}.png\"\n",
    "        \n",
    "   \n",
    "        sc.pl.dotplot(\n",
    "            adata_group,\n",
    "            var_names=markers,\n",
    "            groupby=groupby,\n",
    "            cmap=\"RdYlBu_r\",\n",
    "            title=title,\n",
    "            show=False,\n",
    "            save=filename  \n",
    "        )\n",
    "        \n",
    "\n",
    "        saved_path = os.path.join(output_dir, filename)\n",
    "        os.rename(filename, saved_path)  #\n",
    "        \n",
    "        print(f\"Dot plot saved to {saved_path}\")\n",
    "        plt.close()\n",
    "\n",
    "\n",
    "plot_dotplot(adata, group_key=\"MAST_results\", genotype_key=\"genotype\")"
   ]
  },
  {
   "cell_type": "markdown",
   "metadata": {},
   "source": [
    "## Checking vcm1 DE"
   ]
  },
  {
   "cell_type": "code",
   "execution_count": null,
   "metadata": {},
   "outputs": [],
   "source": [
    "adata.obs['cell_state'].value_counts"
   ]
  },
  {
   "cell_type": "code",
   "execution_count": null,
   "metadata": {},
   "outputs": [],
   "source": [
    "vcm1_data = adata[adata.obs['cell_state'] == 'vCM1']\n",
    "print(\"vCM1 raw counts shape:\", vcm1_data.shape)\n",
    "vcm1_summary = vcm1_data.obs['n_counts'].describe()\n",
    "print(\"vCM1 summary statistics:\\n\", vcm1_summary)\n",
    "\n",
    "if 'MAST_results' in adata.uns:\n",
    "    DE_results = adata.uns['MAST_results']\n",
    "    if 'cell_statevCM1' in DE_results:\n",
    "        print(\"vCM1 DE results found.\")\n",
    "        vcm1_DE_results = DE_results['cell_statevCM1']\n",
    "        print(vcm1_DE_results.head())\n",
    "    else:\n",
    "        print(\"No DE results found for vCM1.\")\n",
    "else:\n",
    "    print(\"MAST_results not found in AnnData object.\")\n",
    "\n",
    "thresholds = {\n",
    "    'p_value': 0.05,\n",
    "    'fold_change': 2\n",
    "}\n",
    "print(\"DE analysis thresholds:\", thresholds)"
   ]
  },
  {
   "cell_type": "code",
   "execution_count": 18,
   "metadata": {},
   "outputs": [],
   "source": [
    "def find_de_MAST(sca, target_cell_state):\n",
    "    print(\"Finding differentially expressed genes for cell state:\", target_cell_state)\n",
    "    \n",
    "    robjects.r('''\n",
    "    library(MAST)\n",
    "    library(data.table)\n",
    "    \n",
    "    find_de <- function(sca, target_cell_state) {\n",
    "        zlmCond <- zlm(~ n_genes_per_cell + cell_state, sca)\n",
    "        summaryCond <- summary(zlmCond, doLRT = TRUE)\n",
    "        summaryDt <- summaryCond$datatable\n",
    "        \n",
    "        results <- list()\n",
    "        \n",
    "        cell_state_lfc <- summaryDt[contrast == target_cell_state & component == 'logFC', .(primerid, coef)]\n",
    "        cell_state_p <- summaryDt[contrast == target_cell_state & component == 'H', .(primerid, `Pr(>Chisq)`)]\n",
    "        tmp <- merge(cell_state_lfc, cell_state_p, by='primerid')\n",
    "        tmp$log_fold_change <- tmp$coef / log(2)\n",
    "        tmp$FDR <- p.adjust(tmp$`Pr(>Chisq)`, 'fdr')\n",
    "        tmp$cell_state <- target_cell_state\n",
    "        \n",
    "        # Remove extra columns if any before renaming\n",
    "        tmp <- tmp[, .(primerid, log_fold_change, `Pr(>Chisq)`, FDR, cell_state)]\n",
    "            \n",
    "        colnames(tmp) <- c('gene_id', 'log_fold_change', 'p_value', 'FDR', 'cell_state')\n",
    "        \n",
    "        results[[target_cell_state]] <- tmp\n",
    "        \n",
    "        results <- lapply(results, na.omit)\n",
    "        return(results)\n",
    "    }\n",
    "    ''')\n",
    "\n",
    "    print(\"Differentially expressed genes found.\")\n",
    "\n",
    "    result = robjects.r['find_de'](sca, target_cell_state)\n",
    "    return result\n",
    "\n",
    "target_cell_state = 'vCM1'\n",
    "\n",
    "DE_results_vcm1 = find_de_MAST(sca, target_cell_state)\n",
    "\n",
    "if target_cell_state in DE_results_vcm1:\n",
    "    DE_results_vcm1_df = pandas2ri.rpy2py(DE_results_vcm1[target_cell_state])\n",
    "    if DE_results_vcm1_df.empty:\n",
    "        print(f\"No differential expression results found for {target_cell_state}.\")\n",
    "    else:\n",
    "        output_file = f'DE_results_{target_cell_state}.csv'\n",
    "        DE_results_vcm1_df.to_csv(output_file, index=False)\n",
    "        print(f\"Differentially expressed genes for {target_cell_state} saved to {output_file}.\")\n",
    "else:\n",
    "    print(f\"No results found for {target_cell_state}.\")"
   ]
  },
  {
   "cell_type": "code",
   "execution_count": null,
   "metadata": {},
   "outputs": [],
   "source": [
    "adata.obs['cell_state'].value_counts()"
   ]
  },
  {
   "cell_type": "markdown",
   "metadata": {},
   "source": [
    "## PCA"
   ]
  },
  {
   "cell_type": "code",
   "execution_count": null,
   "metadata": {},
   "outputs": [],
   "source": [
    "sc.pp.highly_variable_genes(adata)\n",
    "sc.pp.pca(adata,svd_solver=\"arpack\", use_highly_variable=True)\n",
    "sc.pl.pca(adata, color= 'cell_state', title = 'Genotype : all_geno')"
   ]
  }
 ],
 "metadata": {
  "kernelspec": {
   "display_name": "mast_env",
   "language": "python",
   "name": "python3"
  },
  "language_info": {
   "codemirror_mode": {
    "name": "ipython",
    "version": 3
   },
   "file_extension": ".py",
   "mimetype": "text/x-python",
   "name": "python",
   "nbconvert_exporter": "python",
   "pygments_lexer": "ipython3",
   "version": "3.7.12"
  }
 },
 "nbformat": 4,
 "nbformat_minor": 2
}
