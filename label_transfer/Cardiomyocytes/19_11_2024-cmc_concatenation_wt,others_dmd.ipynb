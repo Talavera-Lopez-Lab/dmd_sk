{
 "cells": [
  {
   "cell_type": "markdown",
   "metadata": {},
   "source": [
    "# Notebook for merging annotated datasets- Cardiomyocytes\n",
    "\n",
    "**Created by** : Srivalli Kolla\n",
    "\n",
    "**Created on** : 19 November, 2024\n",
    "\n",
    "**Modified on** : 19 November, 2024\n",
    "\n",
    "**Institute of Systems Immunology, University of Würzburg**"
   ]
  },
  {
   "cell_type": "markdown",
   "metadata": {},
   "source": [
    "Env : scanpy"
   ]
  },
  {
   "cell_type": "markdown",
   "metadata": {},
   "source": [
    "# Import Packages"
   ]
  },
  {
   "cell_type": "code",
   "execution_count": 1,
   "metadata": {},
   "outputs": [],
   "source": [
    "import anndata as ad\n",
    "import scanpy as sc\n",
    "import numpy as np\n",
    "import datetime"
   ]
  },
  {
   "cell_type": "code",
   "execution_count": 2,
   "metadata": {},
   "outputs": [
    {
     "name": "stdout",
     "output_type": "stream",
     "text": [
      "-----\n",
      "anndata     0.10.8\n",
      "scanpy      1.10.2\n",
      "-----\n",
      "PIL                 10.3.0\n",
      "asttokens           NA\n",
      "attr                23.2.0\n",
      "cffi                1.16.0\n",
      "colorama            0.4.6\n",
      "comm                0.2.2\n",
      "cycler              0.12.1\n",
      "cython_runtime      NA\n",
      "dateutil            2.9.0.post0\n",
      "debugpy             1.8.2\n",
      "decorator           5.1.1\n",
      "defusedxml          0.7.1\n",
      "distutils           3.12.4\n",
      "django              5.0.6\n",
      "executing           2.0.1\n",
      "h5py                3.11.0\n",
      "igraph              0.11.5\n",
      "ipykernel           6.29.5\n",
      "ipython_genutils    0.2.0\n",
      "ipywidgets          8.1.3\n",
      "jedi                0.19.1\n",
      "joblib              1.4.2\n",
      "kiwisolver          1.4.5\n",
      "legacy_api_wrap     NA\n",
      "leidenalg           0.10.2\n",
      "llvmlite            0.43.0\n",
      "louvain             0.8.2\n",
      "matplotlib          3.8.4\n",
      "mpl_toolkits        NA\n",
      "natsort             8.4.0\n",
      "numba               0.60.0\n",
      "numexpr             2.10.1\n",
      "numpy               1.26.4\n",
      "packaging           24.1\n",
      "pandas              2.2.2\n",
      "parso               0.8.4\n",
      "pkg_resources       NA\n",
      "platformdirs        4.2.2\n",
      "plotly              5.22.0\n",
      "prompt_toolkit      3.0.47\n",
      "psutil              6.0.0\n",
      "pure_eval           0.2.2\n",
      "pydev_ipython       NA\n",
      "pydevconsole        NA\n",
      "pydevd              2.9.5\n",
      "pydevd_file_utils   NA\n",
      "pydevd_plugins      NA\n",
      "pydevd_tracing      NA\n",
      "pydot               2.0.0\n",
      "pygments            2.18.0\n",
      "pyparsing           3.1.2\n",
      "pytz                2024.1\n",
      "rich                NA\n",
      "scipy               1.13.1\n",
      "session_info        1.0.0\n",
      "setuptools          70.1.0\n",
      "setuptools_scm      NA\n",
      "six                 1.16.0\n",
      "sklearn             1.5.0\n",
      "stack_data          0.6.3\n",
      "texttable           1.7.0\n",
      "threadpoolctl       3.5.0\n",
      "torch               2.4.0\n",
      "torchgen            NA\n",
      "tornado             6.4.1\n",
      "tqdm                4.66.4\n",
      "traitlets           5.14.3\n",
      "typing_extensions   NA\n",
      "vscode              NA\n",
      "wcwidth             0.2.13\n",
      "yaml                6.0.2\n",
      "zmq                 26.0.3\n",
      "-----\n",
      "IPython             8.26.0\n",
      "jupyter_client      8.6.2\n",
      "jupyter_core        5.7.2\n",
      "notebook            6.5.7\n",
      "-----\n",
      "Python 3.12.4 | packaged by conda-forge | (main, Jun 17 2024, 10:23:07) [GCC 12.3.0]\n",
      "Linux-6.11.6-100.fc39.x86_64-x86_64-with-glibc2.38\n",
      "-----\n",
      "Session information updated at 2024-11-19 16:32\n"
     ]
    }
   ],
   "source": [
    "sc.settings.verbosity = 3\n",
    "sc.logging.print_versions()\n",
    "sc.settings.set_figure_params(dpi = 180, color_map = 'magma_r', dpi_save = 300, vector_friendly = True, format = 'svg')\n",
    "\n",
    "timestamp = datetime.datetime.now().strftime(\"%d_%m_%y,%H:%M\")"
   ]
  },
  {
   "cell_type": "markdown",
   "metadata": {},
   "source": [
    "# Functions"
   ]
  },
  {
   "cell_type": "code",
   "execution_count": 3,
   "metadata": {},
   "outputs": [],
   "source": [
    "def X_is_raw(adata):\n",
    "    return np.array_equal(adata.X.sum(axis=0).astype(int), adata.X.sum(axis=0))"
   ]
  },
  {
   "cell_type": "markdown",
   "metadata": {},
   "source": [
    "# Import data"
   ]
  },
  {
   "cell_type": "code",
   "execution_count": 4,
   "metadata": {},
   "outputs": [
    {
     "data": {
      "text/plain": [
       "AnnData object with n_obs × n_vars = 56602 × 32285\n",
       "    obs: 'sangerID', 'combinedID', 'donor', 'donor_type', 'region', 'region_finest', 'age', 'gender', 'facility', 'cell_or_nuclei', 'modality', 'kit_10x', 'flushed', 'n_genes', 'n_genes_by_counts', 'total_counts', 'total_counts_mt', 'pct_counts_mt', 'total_counts_ribo', 'pct_counts_ribo', 'scrublet_score', 'scrublet_leiden', 'cluster_scrublet_score', 'doublet_pval', 'doublet_bh_pval', 'batch_key', 'leiden_scVI', 'cell_type', 'cell_state_HCAv1', 'cell_state_scNym', 'cell_state_scNym_confidence', 'cell_state', 'latent_RT_efficiency', 'latent_cell_probability', 'latent_scale', 'n_counts', '_scvi_batch', '_scvi_labels', 'clus20', 'doublet_cls', 'original_or_new', 'batch', 'scANVI_predictions', 'leiden_scArches', 'sample', 'seed_labels', 'genotype', 'doublet_scores', 'predicted_doublets', 'percent_chrY', 'XIST-counts', 'XIST-percentage', 'gender_check_cov', 'S_score', 'G2M_score', 'phase', 'C_scANVI'\n",
       "    var: 'mt', 'ribo', 'n_cells_by_counts', 'mean_counts', 'pct_dropout_by_counts', 'total_counts'\n",
       "    uns: 'log1p'\n",
       "    layers: 'normalized', 'raw_counts'"
      ]
     },
     "execution_count": 4,
     "metadata": {},
     "output_type": "execute_result"
    }
   ],
   "source": [
    "human_wt = sc.read_h5ad('../../data/dmd_annotated_human_wt_cmc_1k_hvg_25_10_24,11:40.h5ad')\n",
    "human_wt"
   ]
  },
  {
   "cell_type": "code",
   "execution_count": 5,
   "metadata": {},
   "outputs": [
    {
     "data": {
      "text/plain": [
       "True"
      ]
     },
     "execution_count": 5,
     "metadata": {},
     "output_type": "execute_result"
    }
   ],
   "source": [
    "X_is_raw(human_wt)"
   ]
  },
  {
   "cell_type": "code",
   "execution_count": 6,
   "metadata": {},
   "outputs": [
    {
     "data": {
      "text/plain": [
       "AnnData object with n_obs × n_vars = 28090 × 32285\n",
       "    obs: 'sangerID', 'combinedID', 'donor', 'donor_type', 'region', 'region_finest', 'age', 'gender', 'facility', 'cell_or_nuclei', 'modality', 'kit_10x', 'flushed', 'n_genes', 'n_genes_by_counts', 'total_counts', 'total_counts_mt', 'pct_counts_mt', 'total_counts_ribo', 'pct_counts_ribo', 'scrublet_score', 'scrublet_leiden', 'cluster_scrublet_score', 'doublet_pval', 'doublet_bh_pval', 'batch_key', 'leiden_scVI', 'cell_type', 'cell_state_HCAv1', 'cell_state_scNym', 'cell_state_scNym_confidence', 'cell_state', 'latent_RT_efficiency', 'latent_cell_probability', 'latent_scale', 'n_counts', '_scvi_batch', '_scvi_labels', 'clus20', 'doublet_cls', 'original_or_new', 'batch', 'scANVI_predictions', 'leiden_scArches', 'sample', 'seed_labels', 'genotype', 'doublet_scores', 'predicted_doublets', 'percent_chrY', 'XIST-counts', 'XIST-percentage', 'gender_check_cov', 'S_score', 'G2M_score', 'phase', 'C_scANVI'\n",
       "    var: 'mt', 'ribo', 'n_cells_by_counts', 'mean_counts', 'pct_dropout_by_counts', 'total_counts'\n",
       "    uns: 'cell_state_colors', 'cell_type_colors', 'genotype_colors', 'log1p', 'neighbors', 'pca', 'sample_colors', 'umap'\n",
       "    obsm: 'X_pca', 'X_umap'\n",
       "    varm: 'PCs'\n",
       "    layers: 'normalized', 'raw_counts'\n",
       "    obsp: 'connectivities', 'distances'"
      ]
     },
     "execution_count": 6,
     "metadata": {},
     "output_type": "execute_result"
    }
   ],
   "source": [
    "wt_others = sc.read_h5ad('../../data/dmd_annotated_wt_others_cmc_5k_hvg_25_10_24,11:49.h5ad')\n",
    "wt_others"
   ]
  },
  {
   "cell_type": "code",
   "execution_count": 7,
   "metadata": {},
   "outputs": [
    {
     "data": {
      "text/plain": [
       "False"
      ]
     },
     "execution_count": 7,
     "metadata": {},
     "output_type": "execute_result"
    }
   ],
   "source": [
    "X_is_raw(wt_others)"
   ]
  },
  {
   "cell_type": "code",
   "execution_count": 8,
   "metadata": {},
   "outputs": [
    {
     "data": {
      "text/plain": [
       "True"
      ]
     },
     "execution_count": 8,
     "metadata": {},
     "output_type": "execute_result"
    }
   ],
   "source": [
    "wt_others.X = wt_others.layers['raw_counts']\n",
    "X_is_raw(wt_others)"
   ]
  },
  {
   "cell_type": "markdown",
   "metadata": {},
   "source": [
    "# Concatenation"
   ]
  },
  {
   "cell_type": "code",
   "execution_count": 16,
   "metadata": {},
   "outputs": [
    {
     "data": {
      "text/plain": [
       "AnnData object with n_obs × n_vars = 84692 × 29378\n",
       "    obs: 'sangerID', 'combinedID', 'donor', 'donor_type', 'region', 'region_finest', 'age', 'gender', 'facility', 'cell_or_nuclei', 'modality', 'kit_10x', 'flushed', 'n_genes', 'n_genes_by_counts', 'total_counts', 'total_counts_mt', 'pct_counts_mt', 'total_counts_ribo', 'pct_counts_ribo', 'scrublet_score', 'scrublet_leiden', 'cluster_scrublet_score', 'doublet_pval', 'doublet_bh_pval', 'batch_key', 'leiden_scVI', 'cell_type', 'cell_state_HCAv1', 'cell_state_scNym', 'cell_state_scNym_confidence', 'cell_state', 'latent_RT_efficiency', 'latent_cell_probability', 'latent_scale', 'n_counts', '_scvi_batch', '_scvi_labels', 'clus20', 'doublet_cls', 'original_or_new', 'batch', 'scANVI_predictions', 'leiden_scArches', 'sample', 'seed_labels', 'genotype', 'doublet_scores', 'predicted_doublets', 'percent_chrY', 'XIST-counts', 'XIST-percentage', 'gender_check_cov', 'S_score', 'G2M_score', 'phase', 'C_scANVI', 'ref'\n",
       "    var: 'mt', 'ribo', 'n_cells_by_counts', 'mean_counts', 'pct_dropout_by_counts', 'total_counts'\n",
       "    layers: 'normalized', 'raw_counts'"
      ]
     },
     "execution_count": 16,
     "metadata": {},
     "output_type": "execute_result"
    }
   ],
   "source": [
    "all_cmc = sc.concat([human_wt,wt_others], join= 'inner',merge='same', label ='ref',keys=['human','wt'])\n",
    "all_cmc"
   ]
  },
  {
   "cell_type": "code",
   "execution_count": 17,
   "metadata": {},
   "outputs": [
    {
     "data": {
      "text/plain": [
       "True"
      ]
     },
     "execution_count": 17,
     "metadata": {},
     "output_type": "execute_result"
    }
   ],
   "source": [
    "X_is_raw(all_cmc)"
   ]
  },
  {
   "cell_type": "code",
   "execution_count": 18,
   "metadata": {},
   "outputs": [
    {
     "data": {
      "text/html": [
       "<div>\n",
       "<style scoped>\n",
       "    .dataframe tbody tr th:only-of-type {\n",
       "        vertical-align: middle;\n",
       "    }\n",
       "\n",
       "    .dataframe tbody tr th {\n",
       "        vertical-align: top;\n",
       "    }\n",
       "\n",
       "    .dataframe thead th {\n",
       "        text-align: right;\n",
       "    }\n",
       "</style>\n",
       "<table border=\"1\" class=\"dataframe\">\n",
       "  <thead>\n",
       "    <tr style=\"text-align: right;\">\n",
       "      <th></th>\n",
       "      <th>sangerID</th>\n",
       "      <th>combinedID</th>\n",
       "      <th>donor</th>\n",
       "      <th>donor_type</th>\n",
       "      <th>region</th>\n",
       "      <th>region_finest</th>\n",
       "      <th>age</th>\n",
       "      <th>gender</th>\n",
       "      <th>facility</th>\n",
       "      <th>cell_or_nuclei</th>\n",
       "      <th>...</th>\n",
       "      <th>predicted_doublets</th>\n",
       "      <th>percent_chrY</th>\n",
       "      <th>XIST-counts</th>\n",
       "      <th>XIST-percentage</th>\n",
       "      <th>gender_check_cov</th>\n",
       "      <th>S_score</th>\n",
       "      <th>G2M_score</th>\n",
       "      <th>phase</th>\n",
       "      <th>C_scANVI</th>\n",
       "      <th>ref</th>\n",
       "    </tr>\n",
       "  </thead>\n",
       "  <tbody>\n",
       "    <tr>\n",
       "      <th>CTCAACCAGATCCAAA-1</th>\n",
       "      <td>NaN</td>\n",
       "      <td>NaN</td>\n",
       "      <td>NaN</td>\n",
       "      <td>NaN</td>\n",
       "      <td>NaN</td>\n",
       "      <td>NaN</td>\n",
       "      <td>NaN</td>\n",
       "      <td>NaN</td>\n",
       "      <td>NaN</td>\n",
       "      <td>NaN</td>\n",
       "      <td>...</td>\n",
       "      <td>False</td>\n",
       "      <td>0.039135</td>\n",
       "      <td>0.0</td>\n",
       "      <td>0.000000</td>\n",
       "      <td>Male</td>\n",
       "      <td>-0.055892</td>\n",
       "      <td>-0.207692</td>\n",
       "      <td>G1</td>\n",
       "      <td>vCM1</td>\n",
       "      <td>human</td>\n",
       "    </tr>\n",
       "    <tr>\n",
       "      <th>CGGCAGTGTGGCCTCA-1</th>\n",
       "      <td>NaN</td>\n",
       "      <td>NaN</td>\n",
       "      <td>NaN</td>\n",
       "      <td>NaN</td>\n",
       "      <td>NaN</td>\n",
       "      <td>NaN</td>\n",
       "      <td>NaN</td>\n",
       "      <td>NaN</td>\n",
       "      <td>NaN</td>\n",
       "      <td>NaN</td>\n",
       "      <td>...</td>\n",
       "      <td>False</td>\n",
       "      <td>0.022938</td>\n",
       "      <td>0.0</td>\n",
       "      <td>0.000000</td>\n",
       "      <td>Male</td>\n",
       "      <td>-0.119855</td>\n",
       "      <td>-0.174615</td>\n",
       "      <td>G1</td>\n",
       "      <td>vCM1</td>\n",
       "      <td>human</td>\n",
       "    </tr>\n",
       "    <tr>\n",
       "      <th>CCTTCAGGTCCTTGTC-1</th>\n",
       "      <td>NaN</td>\n",
       "      <td>NaN</td>\n",
       "      <td>NaN</td>\n",
       "      <td>NaN</td>\n",
       "      <td>NaN</td>\n",
       "      <td>NaN</td>\n",
       "      <td>NaN</td>\n",
       "      <td>NaN</td>\n",
       "      <td>NaN</td>\n",
       "      <td>NaN</td>\n",
       "      <td>...</td>\n",
       "      <td>False</td>\n",
       "      <td>0.028959</td>\n",
       "      <td>0.0</td>\n",
       "      <td>0.000000</td>\n",
       "      <td>Male</td>\n",
       "      <td>-0.015537</td>\n",
       "      <td>-0.200513</td>\n",
       "      <td>G1</td>\n",
       "      <td>vCM1</td>\n",
       "      <td>human</td>\n",
       "    </tr>\n",
       "    <tr>\n",
       "      <th>GAAGGACCAGCAGACA-1</th>\n",
       "      <td>NaN</td>\n",
       "      <td>NaN</td>\n",
       "      <td>NaN</td>\n",
       "      <td>NaN</td>\n",
       "      <td>NaN</td>\n",
       "      <td>NaN</td>\n",
       "      <td>NaN</td>\n",
       "      <td>NaN</td>\n",
       "      <td>NaN</td>\n",
       "      <td>NaN</td>\n",
       "      <td>...</td>\n",
       "      <td>False</td>\n",
       "      <td>0.034706</td>\n",
       "      <td>2.0</td>\n",
       "      <td>0.011569</td>\n",
       "      <td>Male</td>\n",
       "      <td>0.010291</td>\n",
       "      <td>-0.034103</td>\n",
       "      <td>S</td>\n",
       "      <td>vCM5</td>\n",
       "      <td>human</td>\n",
       "    </tr>\n",
       "    <tr>\n",
       "      <th>TATCGCCAGCATTTGC-1</th>\n",
       "      <td>NaN</td>\n",
       "      <td>NaN</td>\n",
       "      <td>NaN</td>\n",
       "      <td>NaN</td>\n",
       "      <td>NaN</td>\n",
       "      <td>NaN</td>\n",
       "      <td>NaN</td>\n",
       "      <td>NaN</td>\n",
       "      <td>NaN</td>\n",
       "      <td>NaN</td>\n",
       "      <td>...</td>\n",
       "      <td>False</td>\n",
       "      <td>0.052641</td>\n",
       "      <td>0.0</td>\n",
       "      <td>0.000000</td>\n",
       "      <td>Male</td>\n",
       "      <td>-0.088075</td>\n",
       "      <td>-0.216282</td>\n",
       "      <td>G1</td>\n",
       "      <td>vCM1</td>\n",
       "      <td>human</td>\n",
       "    </tr>\n",
       "    <tr>\n",
       "      <th>...</th>\n",
       "      <td>...</td>\n",
       "      <td>...</td>\n",
       "      <td>...</td>\n",
       "      <td>...</td>\n",
       "      <td>...</td>\n",
       "      <td>...</td>\n",
       "      <td>...</td>\n",
       "      <td>...</td>\n",
       "      <td>...</td>\n",
       "      <td>...</td>\n",
       "      <td>...</td>\n",
       "      <td>...</td>\n",
       "      <td>...</td>\n",
       "      <td>...</td>\n",
       "      <td>...</td>\n",
       "      <td>...</td>\n",
       "      <td>...</td>\n",
       "      <td>...</td>\n",
       "      <td>...</td>\n",
       "      <td>...</td>\n",
       "      <td>...</td>\n",
       "    </tr>\n",
       "    <tr>\n",
       "      <th>TGGATCATCCCAAGTA-1-query-query</th>\n",
       "      <td>NaN</td>\n",
       "      <td>NaN</td>\n",
       "      <td>NaN</td>\n",
       "      <td>NaN</td>\n",
       "      <td>NaN</td>\n",
       "      <td>NaN</td>\n",
       "      <td>NaN</td>\n",
       "      <td>NaN</td>\n",
       "      <td>NaN</td>\n",
       "      <td>NaN</td>\n",
       "      <td>...</td>\n",
       "      <td>False</td>\n",
       "      <td>0.000000</td>\n",
       "      <td>0.0</td>\n",
       "      <td>0.000000</td>\n",
       "      <td>None</td>\n",
       "      <td>-0.002119</td>\n",
       "      <td>-0.008333</td>\n",
       "      <td>G1</td>\n",
       "      <td>vCM1</td>\n",
       "      <td>wt</td>\n",
       "    </tr>\n",
       "    <tr>\n",
       "      <th>TGTTCATGTAGGACTG-1-query-query</th>\n",
       "      <td>NaN</td>\n",
       "      <td>NaN</td>\n",
       "      <td>NaN</td>\n",
       "      <td>NaN</td>\n",
       "      <td>NaN</td>\n",
       "      <td>NaN</td>\n",
       "      <td>NaN</td>\n",
       "      <td>NaN</td>\n",
       "      <td>NaN</td>\n",
       "      <td>NaN</td>\n",
       "      <td>...</td>\n",
       "      <td>False</td>\n",
       "      <td>0.000000</td>\n",
       "      <td>0.0</td>\n",
       "      <td>0.000000</td>\n",
       "      <td>None</td>\n",
       "      <td>-0.006356</td>\n",
       "      <td>0.014231</td>\n",
       "      <td>G2M</td>\n",
       "      <td>vCM1</td>\n",
       "      <td>wt</td>\n",
       "    </tr>\n",
       "    <tr>\n",
       "      <th>TTTAGTCAGGATGGCT-1-query-query</th>\n",
       "      <td>NaN</td>\n",
       "      <td>NaN</td>\n",
       "      <td>NaN</td>\n",
       "      <td>NaN</td>\n",
       "      <td>NaN</td>\n",
       "      <td>NaN</td>\n",
       "      <td>NaN</td>\n",
       "      <td>NaN</td>\n",
       "      <td>NaN</td>\n",
       "      <td>NaN</td>\n",
       "      <td>...</td>\n",
       "      <td>False</td>\n",
       "      <td>0.000000</td>\n",
       "      <td>0.0</td>\n",
       "      <td>0.000000</td>\n",
       "      <td>None</td>\n",
       "      <td>-0.006356</td>\n",
       "      <td>-0.006667</td>\n",
       "      <td>G1</td>\n",
       "      <td>vCM1</td>\n",
       "      <td>wt</td>\n",
       "    </tr>\n",
       "    <tr>\n",
       "      <th>GACTCAACACGTCATA-1-query-query</th>\n",
       "      <td>NaN</td>\n",
       "      <td>NaN</td>\n",
       "      <td>NaN</td>\n",
       "      <td>NaN</td>\n",
       "      <td>NaN</td>\n",
       "      <td>NaN</td>\n",
       "      <td>NaN</td>\n",
       "      <td>NaN</td>\n",
       "      <td>NaN</td>\n",
       "      <td>NaN</td>\n",
       "      <td>...</td>\n",
       "      <td>False</td>\n",
       "      <td>0.000000</td>\n",
       "      <td>0.0</td>\n",
       "      <td>0.000000</td>\n",
       "      <td>None</td>\n",
       "      <td>-0.006356</td>\n",
       "      <td>0.012564</td>\n",
       "      <td>G2M</td>\n",
       "      <td>vCM1</td>\n",
       "      <td>wt</td>\n",
       "    </tr>\n",
       "    <tr>\n",
       "      <th>TGAGCGCGTCTGTAGT-1-query-query</th>\n",
       "      <td>NaN</td>\n",
       "      <td>NaN</td>\n",
       "      <td>NaN</td>\n",
       "      <td>NaN</td>\n",
       "      <td>NaN</td>\n",
       "      <td>NaN</td>\n",
       "      <td>NaN</td>\n",
       "      <td>NaN</td>\n",
       "      <td>NaN</td>\n",
       "      <td>NaN</td>\n",
       "      <td>...</td>\n",
       "      <td>False</td>\n",
       "      <td>0.000000</td>\n",
       "      <td>0.0</td>\n",
       "      <td>0.000000</td>\n",
       "      <td>None</td>\n",
       "      <td>-0.008475</td>\n",
       "      <td>-0.010000</td>\n",
       "      <td>G1</td>\n",
       "      <td>vCM3</td>\n",
       "      <td>wt</td>\n",
       "    </tr>\n",
       "  </tbody>\n",
       "</table>\n",
       "<p>84692 rows × 58 columns</p>\n",
       "</div>"
      ],
      "text/plain": [
       "                               sangerID combinedID donor donor_type region  \\\n",
       "CTCAACCAGATCCAAA-1                  NaN        NaN   NaN        NaN    NaN   \n",
       "CGGCAGTGTGGCCTCA-1                  NaN        NaN   NaN        NaN    NaN   \n",
       "CCTTCAGGTCCTTGTC-1                  NaN        NaN   NaN        NaN    NaN   \n",
       "GAAGGACCAGCAGACA-1                  NaN        NaN   NaN        NaN    NaN   \n",
       "TATCGCCAGCATTTGC-1                  NaN        NaN   NaN        NaN    NaN   \n",
       "...                                 ...        ...   ...        ...    ...   \n",
       "TGGATCATCCCAAGTA-1-query-query      NaN        NaN   NaN        NaN    NaN   \n",
       "TGTTCATGTAGGACTG-1-query-query      NaN        NaN   NaN        NaN    NaN   \n",
       "TTTAGTCAGGATGGCT-1-query-query      NaN        NaN   NaN        NaN    NaN   \n",
       "GACTCAACACGTCATA-1-query-query      NaN        NaN   NaN        NaN    NaN   \n",
       "TGAGCGCGTCTGTAGT-1-query-query      NaN        NaN   NaN        NaN    NaN   \n",
       "\n",
       "                               region_finest  age gender facility  \\\n",
       "CTCAACCAGATCCAAA-1                       NaN  NaN    NaN      NaN   \n",
       "CGGCAGTGTGGCCTCA-1                       NaN  NaN    NaN      NaN   \n",
       "CCTTCAGGTCCTTGTC-1                       NaN  NaN    NaN      NaN   \n",
       "GAAGGACCAGCAGACA-1                       NaN  NaN    NaN      NaN   \n",
       "TATCGCCAGCATTTGC-1                       NaN  NaN    NaN      NaN   \n",
       "...                                      ...  ...    ...      ...   \n",
       "TGGATCATCCCAAGTA-1-query-query           NaN  NaN    NaN      NaN   \n",
       "TGTTCATGTAGGACTG-1-query-query           NaN  NaN    NaN      NaN   \n",
       "TTTAGTCAGGATGGCT-1-query-query           NaN  NaN    NaN      NaN   \n",
       "GACTCAACACGTCATA-1-query-query           NaN  NaN    NaN      NaN   \n",
       "TGAGCGCGTCTGTAGT-1-query-query           NaN  NaN    NaN      NaN   \n",
       "\n",
       "                               cell_or_nuclei  ... predicted_doublets  \\\n",
       "CTCAACCAGATCCAAA-1                        NaN  ...              False   \n",
       "CGGCAGTGTGGCCTCA-1                        NaN  ...              False   \n",
       "CCTTCAGGTCCTTGTC-1                        NaN  ...              False   \n",
       "GAAGGACCAGCAGACA-1                        NaN  ...              False   \n",
       "TATCGCCAGCATTTGC-1                        NaN  ...              False   \n",
       "...                                       ...  ...                ...   \n",
       "TGGATCATCCCAAGTA-1-query-query            NaN  ...              False   \n",
       "TGTTCATGTAGGACTG-1-query-query            NaN  ...              False   \n",
       "TTTAGTCAGGATGGCT-1-query-query            NaN  ...              False   \n",
       "GACTCAACACGTCATA-1-query-query            NaN  ...              False   \n",
       "TGAGCGCGTCTGTAGT-1-query-query            NaN  ...              False   \n",
       "\n",
       "                               percent_chrY XIST-counts  XIST-percentage  \\\n",
       "CTCAACCAGATCCAAA-1                 0.039135         0.0         0.000000   \n",
       "CGGCAGTGTGGCCTCA-1                 0.022938         0.0         0.000000   \n",
       "CCTTCAGGTCCTTGTC-1                 0.028959         0.0         0.000000   \n",
       "GAAGGACCAGCAGACA-1                 0.034706         2.0         0.011569   \n",
       "TATCGCCAGCATTTGC-1                 0.052641         0.0         0.000000   \n",
       "...                                     ...         ...              ...   \n",
       "TGGATCATCCCAAGTA-1-query-query     0.000000         0.0         0.000000   \n",
       "TGTTCATGTAGGACTG-1-query-query     0.000000         0.0         0.000000   \n",
       "TTTAGTCAGGATGGCT-1-query-query     0.000000         0.0         0.000000   \n",
       "GACTCAACACGTCATA-1-query-query     0.000000         0.0         0.000000   \n",
       "TGAGCGCGTCTGTAGT-1-query-query     0.000000         0.0         0.000000   \n",
       "\n",
       "                                gender_check_cov   S_score  G2M_score  phase  \\\n",
       "CTCAACCAGATCCAAA-1                          Male -0.055892  -0.207692     G1   \n",
       "CGGCAGTGTGGCCTCA-1                          Male -0.119855  -0.174615     G1   \n",
       "CCTTCAGGTCCTTGTC-1                          Male -0.015537  -0.200513     G1   \n",
       "GAAGGACCAGCAGACA-1                          Male  0.010291  -0.034103      S   \n",
       "TATCGCCAGCATTTGC-1                          Male -0.088075  -0.216282     G1   \n",
       "...                                          ...       ...        ...    ...   \n",
       "TGGATCATCCCAAGTA-1-query-query              None -0.002119  -0.008333     G1   \n",
       "TGTTCATGTAGGACTG-1-query-query              None -0.006356   0.014231    G2M   \n",
       "TTTAGTCAGGATGGCT-1-query-query              None -0.006356  -0.006667     G1   \n",
       "GACTCAACACGTCATA-1-query-query              None -0.006356   0.012564    G2M   \n",
       "TGAGCGCGTCTGTAGT-1-query-query              None -0.008475  -0.010000     G1   \n",
       "\n",
       "                                C_scANVI    ref  \n",
       "CTCAACCAGATCCAAA-1                  vCM1  human  \n",
       "CGGCAGTGTGGCCTCA-1                  vCM1  human  \n",
       "CCTTCAGGTCCTTGTC-1                  vCM1  human  \n",
       "GAAGGACCAGCAGACA-1                  vCM5  human  \n",
       "TATCGCCAGCATTTGC-1                  vCM1  human  \n",
       "...                                  ...    ...  \n",
       "TGGATCATCCCAAGTA-1-query-query      vCM1     wt  \n",
       "TGTTCATGTAGGACTG-1-query-query      vCM1     wt  \n",
       "TTTAGTCAGGATGGCT-1-query-query      vCM1     wt  \n",
       "GACTCAACACGTCATA-1-query-query      vCM1     wt  \n",
       "TGAGCGCGTCTGTAGT-1-query-query      vCM3     wt  \n",
       "\n",
       "[84692 rows x 58 columns]"
      ]
     },
     "execution_count": 18,
     "metadata": {},
     "output_type": "execute_result"
    }
   ],
   "source": [
    "all_cmc.obs"
   ]
  },
  {
   "cell_type": "code",
   "execution_count": 19,
   "metadata": {},
   "outputs": [
    {
     "data": {
      "text/html": [
       "<div>\n",
       "<style scoped>\n",
       "    .dataframe tbody tr th:only-of-type {\n",
       "        vertical-align: middle;\n",
       "    }\n",
       "\n",
       "    .dataframe tbody tr th {\n",
       "        vertical-align: top;\n",
       "    }\n",
       "\n",
       "    .dataframe thead th {\n",
       "        text-align: right;\n",
       "    }\n",
       "</style>\n",
       "<table border=\"1\" class=\"dataframe\">\n",
       "  <thead>\n",
       "    <tr style=\"text-align: right;\">\n",
       "      <th></th>\n",
       "      <th>mt</th>\n",
       "      <th>ribo</th>\n",
       "      <th>n_cells_by_counts</th>\n",
       "      <th>mean_counts</th>\n",
       "      <th>pct_dropout_by_counts</th>\n",
       "      <th>total_counts</th>\n",
       "    </tr>\n",
       "  </thead>\n",
       "  <tbody>\n",
       "    <tr>\n",
       "      <th>Xkr4</th>\n",
       "      <td>False</td>\n",
       "      <td>False</td>\n",
       "      <td>2530</td>\n",
       "      <td>0.043516</td>\n",
       "      <td>98.656214</td>\n",
       "      <td>8193</td>\n",
       "    </tr>\n",
       "    <tr>\n",
       "      <th>Gm1992</th>\n",
       "      <td>False</td>\n",
       "      <td>False</td>\n",
       "      <td>300</td>\n",
       "      <td>0.002071</td>\n",
       "      <td>99.840658</td>\n",
       "      <td>390</td>\n",
       "    </tr>\n",
       "    <tr>\n",
       "      <th>Gm19938</th>\n",
       "      <td>False</td>\n",
       "      <td>False</td>\n",
       "      <td>317</td>\n",
       "      <td>0.001859</td>\n",
       "      <td>99.831628</td>\n",
       "      <td>350</td>\n",
       "    </tr>\n",
       "    <tr>\n",
       "      <th>Gm37381</th>\n",
       "      <td>False</td>\n",
       "      <td>False</td>\n",
       "      <td>72</td>\n",
       "      <td>0.000600</td>\n",
       "      <td>99.961758</td>\n",
       "      <td>113</td>\n",
       "    </tr>\n",
       "    <tr>\n",
       "      <th>Rp1</th>\n",
       "      <td>False</td>\n",
       "      <td>False</td>\n",
       "      <td>892</td>\n",
       "      <td>0.009895</td>\n",
       "      <td>99.526222</td>\n",
       "      <td>1863</td>\n",
       "    </tr>\n",
       "    <tr>\n",
       "      <th>...</th>\n",
       "      <td>...</td>\n",
       "      <td>...</td>\n",
       "      <td>...</td>\n",
       "      <td>...</td>\n",
       "      <td>...</td>\n",
       "      <td>...</td>\n",
       "    </tr>\n",
       "    <tr>\n",
       "      <th>Il11ra2-2</th>\n",
       "      <td>False</td>\n",
       "      <td>False</td>\n",
       "      <td>0</td>\n",
       "      <td>0.000000</td>\n",
       "      <td>100.000000</td>\n",
       "      <td>0</td>\n",
       "    </tr>\n",
       "    <tr>\n",
       "      <th>Ccl19-1</th>\n",
       "      <td>False</td>\n",
       "      <td>False</td>\n",
       "      <td>0</td>\n",
       "      <td>0.000000</td>\n",
       "      <td>100.000000</td>\n",
       "      <td>0</td>\n",
       "    </tr>\n",
       "    <tr>\n",
       "      <th>Ccl21a-1</th>\n",
       "      <td>False</td>\n",
       "      <td>False</td>\n",
       "      <td>0</td>\n",
       "      <td>0.000000</td>\n",
       "      <td>100.000000</td>\n",
       "      <td>0</td>\n",
       "    </tr>\n",
       "    <tr>\n",
       "      <th>Gm10931</th>\n",
       "      <td>False</td>\n",
       "      <td>False</td>\n",
       "      <td>80</td>\n",
       "      <td>0.000446</td>\n",
       "      <td>99.957509</td>\n",
       "      <td>84</td>\n",
       "    </tr>\n",
       "    <tr>\n",
       "      <th>Gm16367</th>\n",
       "      <td>False</td>\n",
       "      <td>False</td>\n",
       "      <td>0</td>\n",
       "      <td>0.000000</td>\n",
       "      <td>100.000000</td>\n",
       "      <td>0</td>\n",
       "    </tr>\n",
       "  </tbody>\n",
       "</table>\n",
       "<p>29378 rows × 6 columns</p>\n",
       "</div>"
      ],
      "text/plain": [
       "              mt   ribo  n_cells_by_counts  mean_counts  \\\n",
       "Xkr4       False  False               2530     0.043516   \n",
       "Gm1992     False  False                300     0.002071   \n",
       "Gm19938    False  False                317     0.001859   \n",
       "Gm37381    False  False                 72     0.000600   \n",
       "Rp1        False  False                892     0.009895   \n",
       "...          ...    ...                ...          ...   \n",
       "Il11ra2-2  False  False                  0     0.000000   \n",
       "Ccl19-1    False  False                  0     0.000000   \n",
       "Ccl21a-1   False  False                  0     0.000000   \n",
       "Gm10931    False  False                 80     0.000446   \n",
       "Gm16367    False  False                  0     0.000000   \n",
       "\n",
       "           pct_dropout_by_counts  total_counts  \n",
       "Xkr4                   98.656214          8193  \n",
       "Gm1992                 99.840658           390  \n",
       "Gm19938                99.831628           350  \n",
       "Gm37381                99.961758           113  \n",
       "Rp1                    99.526222          1863  \n",
       "...                          ...           ...  \n",
       "Il11ra2-2             100.000000             0  \n",
       "Ccl19-1               100.000000             0  \n",
       "Ccl21a-1              100.000000             0  \n",
       "Gm10931                99.957509            84  \n",
       "Gm16367               100.000000             0  \n",
       "\n",
       "[29378 rows x 6 columns]"
      ]
     },
     "execution_count": 19,
     "metadata": {},
     "output_type": "execute_result"
    }
   ],
   "source": [
    "all_cmc.var"
   ]
  },
  {
   "cell_type": "code",
   "execution_count": 20,
   "metadata": {},
   "outputs": [
    {
     "data": {
      "text/plain": [
       "cell_state\n",
       "vCM1    50283\n",
       "vCM4    29192\n",
       "vCM2     3599\n",
       "vCM3     1617\n",
       "vCM5        1\n",
       "Name: count, dtype: int64"
      ]
     },
     "execution_count": 20,
     "metadata": {},
     "output_type": "execute_result"
    }
   ],
   "source": [
    "all_cmc.obs['cell_state'].value_counts()"
   ]
  },
  {
   "cell_type": "code",
   "execution_count": 21,
   "metadata": {},
   "outputs": [
    {
     "data": {
      "text/plain": [
       "cell_type\n",
       "Ventricular Cardiomyocyte    84692\n",
       "Name: count, dtype: int64"
      ]
     },
     "execution_count": 21,
     "metadata": {},
     "output_type": "execute_result"
    }
   ],
   "source": [
    "all_cmc.obs['cell_type'].value_counts()"
   ]
  },
  {
   "cell_type": "code",
   "execution_count": 22,
   "metadata": {},
   "outputs": [
    {
     "data": {
      "text/plain": [
       "ref\n",
       "human    56602\n",
       "wt       28090\n",
       "Name: count, dtype: int64"
      ]
     },
     "execution_count": 22,
     "metadata": {},
     "output_type": "execute_result"
    }
   ],
   "source": [
    "all_cmc.obs['ref'].value_counts()"
   ]
  },
  {
   "cell_type": "code",
   "execution_count": 23,
   "metadata": {},
   "outputs": [],
   "source": [
    "all_cmc.write_h5ad(f'../../data/dmd_annotated_cmc_concatenated_{timestamp}.h5ad')"
   ]
  }
 ],
 "metadata": {
  "kernelspec": {
   "display_name": "scanpy",
   "language": "python",
   "name": "python3"
  },
  "language_info": {
   "codemirror_mode": {
    "name": "ipython",
    "version": 3
   },
   "file_extension": ".py",
   "mimetype": "text/x-python",
   "name": "python",
   "nbconvert_exporter": "python",
   "pygments_lexer": "ipython3",
   "version": "3.12.4"
  }
 },
 "nbformat": 4,
 "nbformat_minor": 2
}
